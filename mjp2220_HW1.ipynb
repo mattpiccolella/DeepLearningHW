{
 "cells": [
  {
   "cell_type": "markdown",
   "metadata": {},
   "source": [
    "# Deep Learning for Computer Vision:  Assignment 1\n"
   ]
  },
  {
   "cell_type": "markdown",
   "metadata": {},
   "source": [
    "## Computer Science: COMS W 4995 004\n"
   ]
  },
  {
   "cell_type": "markdown",
   "metadata": {},
   "source": [
    "### Due: February 9, 2017"
   ]
  },
  {
   "cell_type": "markdown",
   "metadata": {},
   "source": [
    "#### Problem 1"
   ]
  },
  {
   "cell_type": "markdown",
   "metadata": {},
   "source": [
    "You are asked to produce a minumum error rate classifier for a 3-class classification problem. Your feature space is 2-dimensional. Let's say the class conditional density functions (or likelihoods) are known and given by $\\rho({\\bf x}|y_i)$\n",
    "where ${\\bf x}$ is your feature and $y_i$ specifies the class. Let's also assume that the priors $P(y_i)$ are also given. (Both of these are specified below.) Compute the decision regions for each of the three classes. Hint: you can show this by densely generating sample points ${\\bf x}_j \\in X$ in the feature space, classifying them, and then plotting and coloring them according to their predicted label."
   ]
  },
  {
   "cell_type": "markdown",
   "metadata": {},
   "source": [
    "Let the ccds and priors be given as:\n",
    "    "
   ]
  },
  {
   "cell_type": "markdown",
   "metadata": {},
   "source": [
    "$$\\rho({\\bf x}|y_1) \\sim N({\\bf \\mu}_1, \\Sigma_1)  \\text{ and } P(y_1) = 0.5\\,\\, \\text{ where } \\,\\, \n",
    "{\\bf \\mu}_1 = \\left[\\begin{array}{c} 1 \\\\ 1  \\end{array} \\right]\n",
    "\\,\\, \\text{ and } \n",
    "\\Sigma_1 = \\left[\\begin{array}{cc} 1 & 0 \\\\ 0 & 0.5  \\end{array} \\right] $$\n"
   ]
  },
  {
   "cell_type": "markdown",
   "metadata": {},
   "source": [
    "$$\\rho({\\bf x}|y_2) \\sim N({\\bf \\mu}_2, \\Sigma_2)  \\text{ and } P(y_2) = 0.25\\,\\, \\text{ where } \\,\\, \n",
    "{\\bf \\mu}_2 = \\left[\\begin{array}{c} 1 \\\\ 0  \\end{array} \\right]\n",
    "\\,\\, \\text{ and } \n",
    "\\Sigma_2 = \\left[\\begin{array}{cc} 0.5 & 0 \\\\ 0 & 1  \\end{array} \\right] $$\n"
   ]
  },
  {
   "cell_type": "markdown",
   "metadata": {},
   "source": [
    "$$\\rho({\\bf x}|y_3) \\sim N({\\bf \\mu}_3, \\Sigma_3)  \\text{ and } P(y_3) = 0.25\\,\\, \\text{ where } \\,\\, \n",
    "{\\bf \\mu}_3 = \\left[\\begin{array}{c} 0 \\\\ 0  \\end{array} \\right]\n",
    "\\,\\, \\text{ and } \n",
    "\\Sigma_3 = \\left[\\begin{array}{cc} 0.5 & 0 \\\\ 0 & 0.5  \\end{array} \\right] $$"
   ]
  },
  {
   "cell_type": "markdown",
   "metadata": {},
   "source": [
    "Remember all you need to do is to use Bayes Theorem to get the expression for $P(y_i|{\\bf x})$, then for each sample ${\\bf x}_j \\in X$ choose the $i$ with the highest aposteriori probability."
   ]
  },
  {
   "cell_type": "code",
   "execution_count": 12,
   "metadata": {
    "collapsed": true
   },
   "outputs": [],
   "source": [
    "import numpy as np\n",
    "import random\n",
    "import matplotlib.pyplot as plt\n",
    "from scipy.stats import multivariate_normal"
   ]
  },
  {
   "cell_type": "code",
   "execution_count": 13,
   "metadata": {
    "collapsed": false
   },
   "outputs": [],
   "source": [
    "def generate_sample_points(x_range, y_range, num_points):\n",
    "    x1_points = []\n",
    "    x2_points = []\n",
    "    for i in np.linspace(-x_range, x_range, num_points):\n",
    "        for j in np.linspace(-y_range, y_range, num_points):\n",
    "            x1_points.append(i)\n",
    "            x2_points.append(j)\n",
    "    return (x1_points, x2_points)\n",
    "\n",
    "def calculate_bayesian_denominator(sample, means, variances, priors):\n",
    "    denominator = 0\n",
    "    for (mean, variance, prior) in zip(means, variances, priors):\n",
    "        value = (multivariate_normal(mean, variance).pdf(sample)) * prior\n",
    "        denominator = denominator + value\n",
    "    return denominator\n",
    "\n",
    "def calculate_bayesian_prob(sample, mean, variance, prior, denominator_value):\n",
    "    numerator_value = (multivariate_normal(mean, variance).pdf(sample)) * (prior)\n",
    "    return (numerator_value) / (denominator_value)\n",
    "\n",
    "def calculate_max_bayesian(sample, means, variances, priors):\n",
    "    denominator_value = calculate_bayesian_denominator(sample, means, variances, priors)\n",
    "    values = []\n",
    "    for (mean, variance, prior) in zip(means, variances, priors):\n",
    "        values.append(calculate_bayesian_prob(sample, mean, variance, prior, denominator_value))\n",
    "    return ((values.index(max(values))) + 1)\n",
    "\n",
    "def label_points(x1_points, x2_points, means, variances, priors):\n",
    "    labeled_points = []\n",
    "    for (x1, x2) in zip(x1_points, x2_points):\n",
    "        # Sample is generated using the separate dimensions we randomly generated.\n",
    "        sample = [x1, x2]\n",
    "        sample_class = calculate_max_bayesian(sample, means, variances, priors)\n",
    "        labeled_points.append(sample_class)\n",
    "    return labeled_points\n",
    "\n",
    "def filter_points_by_class(desired_class, points):\n",
    "    filtered_points = filter(lambda point: point[2] == desired_class, points)\n",
    "    return zip(*filtered_points)\n",
    "\n",
    "def plot_labeled_points(x1_points, x2_points, labeled_points, num_classes):\n",
    "    # Colors taken from online matplotlib tutorial\n",
    "    colors = ['c', 'crimson', 'chartreuse']\n",
    "    plots = []\n",
    "    for i in range(0,num_classes):\n",
    "        points = filter_points_by_class((i+1), zip(x1_points, x2_points, labeled_points))\n",
    "        scatter = plt.scatter(list(points[0]), list(points[1]), color=colors[i])\n",
    "        plots.append(scatter)\n",
    "    plt.legend(tuple(plots), ('Class 1', 'Class 2', 'Class 3'), scatterpoints=1,\n",
    "           loc='lower left', ncol=3, fontsize=8)\n",
    "    plt.title('Minimum Error Rate Classifier')\n",
    "    plt.xlabel('x1')\n",
    "    plt.ylabel('x2')\n",
    "    plt.show()\n"
   ]
  },
  {
   "cell_type": "code",
   "execution_count": 14,
   "metadata": {
    "collapsed": false
   },
   "outputs": [
    {
     "data": {
      "image/png": "[encoded data removed]",
      "text/plain": [
       "<matplotlib.figure.Figure at 0x10d779910>"
      ]
     },
     "metadata": {},
     "output_type": "display_data"
    }
   ],
   "source": [
    "# Data taken from above.\n",
    "class_means = [[1.0, 1.0], [1.0, 0.0], [0.0, 0.0]]\n",
    "class_variances = [[[1.0, 0.0], [0.0, 0.5]],\n",
    "                   [[0.5, 0.0], [0.0, 1.0]],\n",
    "                   [[0.5, 0.0], [0.0, 0.5]]]\n",
    "class_priors = [0.5, 0.25, 0.25]\n",
    "\n",
    "# Generates dense data in the range -2 to 2 in each dimension.\n",
    "(x1_points, x2_points) = generate_sample_points(2, 2, 100)\n",
    "labeled_points = label_points(x1_points, x2_points, class_means, class_variances, class_priors)\n",
    "plot_labeled_points(x1_points, x2_points, labeled_points, len(class_means))"
   ]
  },
  {
   "cell_type": "markdown",
   "metadata": {},
   "source": [
    "#### Problem 2"
   ]
  },
  {
   "cell_type": "markdown",
   "metadata": {},
   "source": [
    "Implement the Pegasos algorithm for finding a linear SVM classifier which separates the training data generated below. Experiment with three different choices for the regularization parameter and plot the resulting separating plane. Hint: the algorithm might show better convergence if you use the projection normalization step. Also, you can consult with any literature beyond the course notes, but you must write your own code."
   ]
  },
  {
   "cell_type": "code",
   "execution_count": 15,
   "metadata": {
    "collapsed": false
   },
   "outputs": [],
   "source": [
    "import numpy as np\n",
    "import random\n",
    "import pandas as pd\n",
    "import matplotlib.pyplot as plt"
   ]
  },
  {
   "cell_type": "code",
   "execution_count": 16,
   "metadata": {
    "collapsed": false
   },
   "outputs": [
    {
     "data": {
      "text/html": [
       "<div>\n",
       "<table border=\"1\" class=\"dataframe\">\n",
       "  <thead>\n",
       "    <tr style=\"text-align: right;\">\n",
       "      <th></th>\n",
       "      <th>x1</th>\n",
       "      <th>x2</th>\n",
       "      <th>y</th>\n",
       "    </tr>\n",
       "  </thead>\n",
       "  <tbody>\n",
       "    <tr>\n",
       "      <th>count</th>\n",
       "      <td>5.000000e+02</td>\n",
       "      <td>5.000000e+02</td>\n",
       "      <td>500.000000</td>\n",
       "    </tr>\n",
       "    <tr>\n",
       "      <th>mean</th>\n",
       "      <td>-8.171241e-17</td>\n",
       "      <td>7.815970e-17</td>\n",
       "      <td>-0.084000</td>\n",
       "    </tr>\n",
       "    <tr>\n",
       "      <th>std</th>\n",
       "      <td>1.000000e+00</td>\n",
       "      <td>1.000000e+00</td>\n",
       "      <td>0.997464</td>\n",
       "    </tr>\n",
       "    <tr>\n",
       "      <th>min</th>\n",
       "      <td>-1.757845e+00</td>\n",
       "      <td>-1.692807e+00</td>\n",
       "      <td>-1.000000</td>\n",
       "    </tr>\n",
       "    <tr>\n",
       "      <th>25%</th>\n",
       "      <td>-9.040246e-01</td>\n",
       "      <td>-8.706881e-01</td>\n",
       "      <td>-1.000000</td>\n",
       "    </tr>\n",
       "    <tr>\n",
       "      <th>50%</th>\n",
       "      <td>3.517738e-02</td>\n",
       "      <td>-2.277943e-01</td>\n",
       "      <td>-1.000000</td>\n",
       "    </tr>\n",
       "    <tr>\n",
       "      <th>75%</th>\n",
       "      <td>8.889974e-01</td>\n",
       "      <td>9.119791e-01</td>\n",
       "      <td>1.000000</td>\n",
       "    </tr>\n",
       "    <tr>\n",
       "      <th>max</th>\n",
       "      <td>1.657435e+00</td>\n",
       "      <td>1.879156e+00</td>\n",
       "      <td>1.000000</td>\n",
       "    </tr>\n",
       "  </tbody>\n",
       "</table>\n",
       "</div>"
      ],
      "text/plain": [
       "                 x1            x2           y\n",
       "count  5.000000e+02  5.000000e+02  500.000000\n",
       "mean  -8.171241e-17  7.815970e-17   -0.084000\n",
       "std    1.000000e+00  1.000000e+00    0.997464\n",
       "min   -1.757845e+00 -1.692807e+00   -1.000000\n",
       "25%   -9.040246e-01 -8.706881e-01   -1.000000\n",
       "50%    3.517738e-02 -2.277943e-01   -1.000000\n",
       "75%    8.889974e-01  9.119791e-01    1.000000\n",
       "max    1.657435e+00  1.879156e+00    1.000000"
      ]
     },
     "execution_count": 16,
     "metadata": {},
     "output_type": "execute_result"
    }
   ],
   "source": [
    "# Let's make up some random data to use to build our SVM classifier\n",
    "data = pd.DataFrame(np.zeros((500, 3)), columns=['x1', 'x2', 'y'])\n",
    "\n",
    "for i in range(len(data.index)):\n",
    "    x1 = random.randint(20,100)\n",
    "    if np.random.random() > 0.5:\n",
    "        data.iloc[i,0] = 1.0 * x1 \n",
    "        data.iloc[i,1] = 0.25 * x1 + 50.0 * (random.random() - 0.5) + 65.0\n",
    "        data.iloc[i,2] = 1.0\n",
    "    else:\n",
    "        data.iloc[i,0] = 1.0 * x1\n",
    "        data.iloc[i,1] = 0.24 * x1 + 50.0 * (random.random() - 0.5) + 0.0 \n",
    "        data.iloc[i,2] = -1.0\n",
    "    \n",
    "# Add in a stray point\n",
    "data.iloc[0,0] = 50.0\n",
    "data.iloc[0,1] = 0.25 * x1 + 25.0\n",
    "data.iloc[0,2] = 1.0\n",
    "\n",
    "# Now let's normalize this data.\n",
    "\n",
    "data.iloc[:,0] = (data.iloc[:,0] - data['x1'].mean()) / data['x1'].std()\n",
    "data.iloc[:,1] = (data.iloc[:,1] - data['x2'].mean()) / data['x2'].std()\n",
    "\n",
    "data.head()\n",
    "data.describe()"
   ]
  },
  {
   "cell_type": "code",
   "execution_count": 17,
   "metadata": {
    "collapsed": true
   },
   "outputs": [],
   "source": [
    "# set X (training data) and y (target variable)\n",
    "cols = data.shape[1]\n",
    "X = data.iloc[:,0:cols-1]\n",
    "y = data.iloc[:,cols-1:cols]\n",
    "\n",
    "X = np.matrix(X.values)\n",
    "y = np.matrix(y.values)"
   ]
  },
  {
   "cell_type": "code",
   "execution_count": 18,
   "metadata": {
    "collapsed": true
   },
   "outputs": [],
   "source": [
    "# Sloppy function for plotting our data\n",
    "def plot_data(X, y, weights):\n",
    "    \n",
    "    fig, ax = plt.subplots(figsize=(12,8))\n",
    "    ax.margins(0.05) # Optional, just adds 5% padding to the autoscaling\n",
    "\n",
    "    y_predict = y > 0\n",
    "    indices_0 = [k for k in range(0, X.shape[0]) if not y_predict[k]]\n",
    "    indices_1 = [k for k in range(0, X.shape[0]) if y_predict[k]]\n",
    "\n",
    "    ax.plot(X[indices_0, 0], X[indices_0,1], marker='o', linestyle='', ms=5, label='-1')\n",
    "    ax.plot(X[indices_1, 0], X[indices_1,1], marker='o', linestyle='', ms=5, label='1')\n",
    "\n",
    "    ax.legend()\n",
    "    ax.legend(loc=2)\n",
    "    ax.set_xlabel('x1')\n",
    "    ax.set_ylabel('x2')\n",
    "    ax.set_title('Training Data')\n",
    "\n",
    "    colors = ['blue', 'red', 'green']\n",
    "    plots = []\n",
    "    labels = []\n",
    "    for i, (c, weight) in enumerate(weights):\n",
    "        min_x, max_x = ax.get_xlim()\n",
    "        slope = (-weight[0] / weight[1])\n",
    "        point_1 = [min_x, max_x]\n",
    "        point_2 = [(min_x * slope), (max_x * slope)]\n",
    "        label = 'C = ' + str(c)\n",
    "        line_plot, = plt.plot(point_1,point_2,'k-', color=colors[i % len(colors)], label=label)\n",
    "        plots.append(line_plot)\n",
    "        labels.append(label)\n",
    "    plt.legend(plots, labels)\n",
    "    plt.show()"
   ]
  },
  {
   "cell_type": "code",
   "execution_count": 19,
   "metadata": {
    "collapsed": false
   },
   "outputs": [],
   "source": [
    "def run_pegasos_algorithm(lambda_param, T, training_data, training_labels):\n",
    "    # Create our list of weights - number of iterations\n",
    "    w = np.zeros((T+1, 2))\n",
    "    for t in range(0, T):\n",
    "        current_weight = w[t] # wt\n",
    "        random_index = random.randint(0, len(training_data) - 1) # it\n",
    "        training_example = training_data[random_index] # xit\n",
    "        training_label = training_labels[random_index] # yit\n",
    "        learning_rate = (1.0 / (lambda_param * ((t+1)))) # nt\n",
    "        if (training_label * np.inner(current_weight.T, training_example)) < 1:\n",
    "            w[t+1] = ((1 - (learning_rate * lambda_param)) * current_weight) + \\\n",
    "                        (learning_rate * training_label * training_example) \n",
    "        else:\n",
    "            w[t+1] = ((1 - (learning_rate * lambda_param)) * current_weight)\n",
    "        # Normalization step\n",
    "        normalization_term = (1 / np.sqrt(lambda_param)) / (np.linalg.norm(w[t+1]))\n",
    "        w[t+1] = w[t+1] * min(1, normalization_term)\n",
    "    return w[T]"
   ]
  },
  {
   "cell_type": "code",
   "execution_count": 22,
   "metadata": {
    "collapsed": false
   },
   "outputs": [
    {
     "data": {
      "image/png": "[encoded data removed]",
      "text/plain": [
       "<matplotlib.figure.Figure at 0x10f162e50>"
      ]
     },
     "metadata": {},
     "output_type": "display_data"
    }
   ],
   "source": [
    "C = [0.01, .1, 1]\n",
    "weights = []\n",
    "num_iterations = 20000\n",
    "for c in C:\n",
    "    lambda_param = (2.0 / (len(X) * c))\n",
    "    current_weight = run_pegasos_algorithm(lambda_param, num_iterations, X, y)\n",
    "    weights.append((c, current_weight))\n",
    "plot_data(X, y, weights)"
   ]
  },
  {
   "cell_type": "code",
   "execution_count": null,
   "metadata": {
    "collapsed": true
   },
   "outputs": [],
   "source": []
  }
 ],
 "metadata": {
  "kernelspec": {
   "display_name": "Python 2",
   "language": "python",
   "name": "python2"
  },
  "language_info": {
   "codemirror_mode": {
    "name": "ipython",
    "version": 2
   },
   "file_extension": ".py",
   "mimetype": "text/x-python",
   "name": "python",
   "nbconvert_exporter": "python",
   "pygments_lexer": "ipython2",
   "version": "2.7.10"
  }
 },
 "nbformat": 4,
 "nbformat_minor": 2
}
